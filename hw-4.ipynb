{
 "cells": [
  {
   "cell_type": "code",
   "execution_count": 132,
   "metadata": {},
   "outputs": [],
   "source": [
    "%matplotlib inline\n",
    "import numpy as np\n",
    "import matplotlib.pyplot as plt\n",
    "\n",
    "def func(x):\n",
    "    a = 1.01\n",
    "    b = -3.04\n",
    "    c = 2.07\n",
    "    return a*x**2 + b*x + c\n",
    "\n",
    "def check_guess(f, x_min, x_max, tol):\n",
    "    \n",
    "    #check our initial guesses\n",
    "    y_min = f(x_min)\n",
    "    y_max = f(x_max)\n",
    "    \n",
    "    #check for 0 crossing between guesses    \n",
    "    if (y_min*y_max>=0.0):\n",
    "        print(\"No zero crossing found in this range = \", x_min,x_max)\n",
    "        s = \"f(%) = %f, f(%) = %f\" % (x_min,y_min,x_max,y_max)\n",
    "        print(s)\n",
    "        return 0\n",
    "    \n",
    "    if (np.fabs(y_min)<tol):\n",
    "        return 1\n",
    "    \n",
    "    if (np.fabs(y_max)<tol):\n",
    "        return 2\n",
    "    \n",
    "    #if we check this point, the bracjet is valid    \n",
    "    return 3  \n",
    "    \n",
    "         "
   ]
  },
  {
   "cell_type": "code",
   "execution_count": 133,
   "metadata": {},
   "outputs": [
    {
     "data": {
      "text/plain": [
       "[<matplotlib.lines.Line2D at 0x62ec310>]"
      ]
     },
     "execution_count": 133,
     "metadata": {},
     "output_type": "execute_result"
    },
    {
     "data": {
      "image/png": "[encoded data removed]",
      "text/plain": [
       "<Figure size 432x288 with 1 Axes>"
      ]
     },
     "metadata": {
      "needs_background": "light"
     },
     "output_type": "display_data"
    }
   ],
   "source": [
    "x = np.linspace(0,3,num = 1000,dtype=float)\n",
    "\n",
    "ax = plt.gca()\n",
    "ax.set_xlim(0,3)\n",
    "ax.set_ylim(-.5,2)\n",
    "\n",
    "z = 0*x\n",
    "plt.plot(x,z, linestyle='dashed')\n",
    "\n",
    "y = func(x)\n",
    "plt.plot(x,y)\n"
   ]
  },
  {
   "cell_type": "code",
   "execution_count": 134,
   "metadata": {},
   "outputs": [],
   "source": [
    "def bisection(f, x_min_start, x_max_start, tol):\n",
    "    \n",
    "    x_min = x_min_start\n",
    "    x_max = x_max_start\n",
    "    x_mid = 0.0 #midpoint\n",
    "    \n",
    "   # y_min = f(x_min)\n",
    "    #y_max = f(x_max)\n",
    "    #y_mid = 0.0\n",
    "    \n",
    "    imax = 1000\n",
    "    i = 0 #iterator\n",
    "    \n",
    "    #flag = bisection_root_finding(f, x_min_start, x_max_start, tol)\n",
    "    flag = check_guess(f, x_min_start, x_max_start, tol)\n",
    "    if (flag==0):\n",
    "        print(\"Error in bisection_root_finding().\")\n",
    "        raise ValueError('Initial values invalid',x_min,x_max)\n",
    "    elif(flag==1):\n",
    "        return x_min\n",
    "    elif(flag==2):\n",
    "        return x_max\n",
    "    \n",
    "    flag = 1\n",
    "    \n",
    "    while(flag):\n",
    "        x_mid = 0.5*(x_min + x_max)\n",
    "        y_mid = f(x_mid)\n",
    "        \n",
    "        if(np.fabs(y_mid)<tol):\n",
    "            flag=0\n",
    "        else:\n",
    "            #x_mid is not the root            \n",
    "            if(f(x_min)*f(x_mid)>0):\n",
    "                #replace x_min with x_mid \n",
    "                x_min = x_mid\n",
    "            else:\n",
    "                x_max = x_mid\n",
    "            \n",
    "                \n",
    "        #print(x_min, f(x_min), x_max, f(x_max))\n",
    "        \n",
    "    \n",
    "        \n",
    "        #count the iteration\n",
    "        i += 1\n",
    "        \n",
    "        if(i>=imax):\n",
    "            print(\"Exceeded max number of iterations = \", i)\n",
    "            s = \"Min bracket f(%f) = %f\" % (x_min,f(x_min))\n",
    "            print(s)\n",
    "            s = \"Max bracket f(%f) = %f\" % (x_max,f(x_max))\n",
    "            print(s)\n",
    "            s = \"Mid bracket f(%f) = %f\" % (x_mid,f(x_mid))\n",
    "            print(s)\n",
    "            raise StopIteration('Stopping iteration after ', i)\n",
    "            \n",
    "    \n",
    "    s = f\"Total iterations until root found: {i}\"\n",
    "    print(s)\n",
    "            \n",
    "    return x_mid\n",
    "            \n",
    "    \n",
    "    \n",
    "    "
   ]
  },
  {
   "cell_type": "code",
   "execution_count": 135,
   "metadata": {},
   "outputs": [
    {
     "name": "stdout",
     "output_type": "stream",
     "text": [
      "0.5 0.8024999999999998\n",
      "1.5 -0.2175000000000007\n",
      "Total iterations until root found: 17\n",
      "Root found with y(1.040871) = -0.000001\n",
      "1.75 -0.15687500000000032\n",
      "2.25 0.3431250000000001\n",
      "Total iterations until root found: 16\n",
      "Root found with y(1.969032) = -0.000001\n"
     ]
    }
   ],
   "source": [
    "x_min = .5\n",
    "x_max = 1.5\n",
    "tolerance = 1.0e-6\n",
    "\n",
    "#print the initial guess\n",
    "print(x_min, func(x_min))\n",
    "print(x_max, func(x_max))\n",
    "\n",
    "x_root = bisection(func, x_min, x_max, tolerance)\n",
    "y_root = func(x_root)\n",
    "\n",
    "s = \"Root found with y(%f) = %f\" % (x_root,y_root)\n",
    "\n",
    "print(s)\n",
    "\n",
    "x_min2 = 1.75\n",
    "x_max2 = 2.25\n",
    "tolerance = 1.0e-6\n",
    "\n",
    "#print the initial guess\n",
    "print(x_min2, func(x_min2))\n",
    "print(x_max2, func(x_max2))\n",
    "\n",
    "x_root2 = bisection(func, x_min2, x_max2, tolerance)\n",
    "y_root = func(x_root2)\n",
    "\n",
    "s = \"Root found with y(%f) = %f\" % (x_root2,y_root)\n",
    "print(s)\n",
    "\n",
    "s = f\"Root 1: {x_root}\n",
    "      Root 2: {x_root2}\"\n",
    "print(s)"
   ]
  },
  {
   "cell_type": "code",
   "execution_count": null,
   "metadata": {},
   "outputs": [],
   "source": []
  },
  {
   "cell_type": "code",
   "execution_count": 136,
   "metadata": {},
   "outputs": [
    {
     "data": {
      "text/plain": [
       "<matplotlib.collections.PathCollection at 0xf35d640>"
      ]
     },
     "execution_count": 136,
     "metadata": {},
     "output_type": "execute_result"
    },
    {
     "data": {
      "image/png": "[encoded data removed]",
      "text/plain": [
       "<Figure size 432x288 with 1 Axes>"
      ]
     },
     "metadata": {
      "needs_background": "light"
     },
     "output_type": "display_data"
    }
   ],
   "source": [
    "x = np.linspace(0,3,num = 1000,dtype=float)\n",
    "\n",
    "ax = plt.gca()\n",
    "ax.set_xlim(0,3)\n",
    "ax.set_ylim(-.5,2)\n",
    "\n",
    "z = 0*x\n",
    "plt.plot(x,z, linestyle='dashed')\n",
    "\n",
    "y = func(x)\n",
    "plt.plot(x,y)\n",
    "\n",
    "\n",
    "plt.scatter(x_min, func(x_min), color = 'blue')\n",
    "plt.scatter(x_max, func(x_max), color = 'blue')\n",
    "\n",
    "plt.scatter(x_min2, func(x_min2), color = 'purple')\n",
    "plt.scatter(x_max2, func(x_max2), color = 'purple')\n",
    "\n",
    "plt.scatter(x_root, func(x_root), color = 'red')\n",
    "plt.scatter(x_root2, func(x_root2), color = 'red')"
   ]
  },
  {
   "cell_type": "code",
   "execution_count": null,
   "metadata": {},
   "outputs": [],
   "source": []
  }
 ],
 "metadata": {
  "kernelspec": {
   "display_name": "Python 3",
   "language": "python",
   "name": "python3"
  },
  "language_info": {
   "codemirror_mode": {
    "name": "ipython",
    "version": 3
   },
   "file_extension": ".py",
   "mimetype": "text/x-python",
   "name": "python",
   "nbconvert_exporter": "python",
   "pygments_lexer": "ipython3",
   "version": "3.8.5"
  }
 },
 "nbformat": 4,
 "nbformat_minor": 4
}
